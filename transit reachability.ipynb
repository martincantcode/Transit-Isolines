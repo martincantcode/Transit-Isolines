{
 "cells": [
  {
   "cell_type": "code",
   "execution_count": 6,
   "metadata": {},
   "outputs": [
    {
     "name": "stdout",
     "output_type": "stream",
     "text": [
      "b'<?xml version=\\'1.0\\' encoding=\\'utf-8\\'?>\\n<Res serviceUrl=\"http://internal-ptkernel-prd-v254-1801131483.eu-west-1.elb.amazonaws.com/goroute/NORTH_RHINE_WESTPHALIA_V188_20180829\"><Isochrone y=\"50.941278\" x=\"6.958281\" time=\"2018-08-31T09:26:00\" max_dur=\"PT15M\" max_change=\"3\" timespan=\"0\"><IsoDest duration=\"PT02M\"><Stn y=\"50.941330\" x=\"6.959710\" name=\"K\\xc3\\xb6ln-Hauptbahnhof\" id=\"700150335\"/></IsoDest><IsoDest duration=\"PT04M\"><Stn y=\"50.942100\" x=\"6.958120\" name=\"K\\xc3\\xb6ln-Hauptbahnhof\" id=\"700150435\"/></IsoDest><IsoDest duration=\"PT04M\"><Stn y=\"50.942986\" x=\"6.958600\" name=\"K\\xc3\\xb6ln Hbf\" id=\"415212048\"/></IsoDest><IsoDest duration=\"PT04M\"><Stn y=\"50.942980\" x=\"6.958594\" name=\"K\\xc3\\xb6ln, Dom / Hbf\" id=\"401508847\"/></IsoDest><IsoDest duration=\"PT04M\"><Stn y=\"50.942510\" x=\"6.957670\" name=\"K\\xc3\\xb6ln-Hauptbahnhof\" id=\"700150434\"/></IsoDest><IsoDest duration=\"PT05M\"><Stn y=\"50.938476\" x=\"6.959711\" name=\"K\\xc3\\xb6ln, Rathaus\" id=\"401508845\"/></IsoDest><IsoDest duration=\"PT06M\"><Stn y=\"50.944364\" x=\"6.958651\" name=\"K\\xc3\\xb6ln, Breslauer Platz/Hbf\" id=\"401506590\"/></IsoDest><IsoDest duration=\"PT06M\"><Stn y=\"50.949685\" x=\"6.952861\" name=\"K\\xc3\\xb6ln Hansaring\" id=\"415212049\"/></IsoDest><IsoDest duration=\"PT06M\"><Stn y=\"50.939981\" x=\"6.950451\" name=\"K\\xc3\\xb6ln, Appellhofplatz\" id=\"401508846\"/></IsoDest><IsoDest duration=\"PT06M\"><Stn y=\"50.949017\" x=\"6.952400\" name=\"K\\xc3\\xb6ln, Hansaring\" id=\"401506608\"/></IsoDest><IsoDest duration=\"PT07M\"><Stn y=\"50.939761\" x=\"6.977826\" name=\"K\\xc3\\xb6ln Messe/Deutz\" id=\"415212051\"/></IsoDest><IsoDest duration=\"PT07M\"><Stn y=\"50.940699\" x=\"6.979822\" name=\"K\\xc3\\xb6ln, Deutz Bf Deutz / Messe Lanxess arena\" id=\"401511162\"/></IsoDest><IsoDest duration=\"PT08M\"><Stn y=\"50.935778\" x=\"6.947691\" name=\"K\\xc3\\xb6ln, Neumarkt\" id=\"401508842\"/></IsoDest><IsoDest duration=\"PT08M\"><Stn y=\"50.950628\" x=\"6.958809\" name=\"K\\xc3\\xb6ln, Ebertplatz\" id=\"401506607\"/></IsoDest><IsoDest duration=\"PT09M\"><Stn y=\"50.954034\" x=\"6.964315\" name=\"K\\xc3\\xb6ln, Reichenspergerplatz\" id=\"401506606\"/></IsoDest><IsoDest duration=\"PT09M\"><Stn y=\"50.935714\" x=\"6.960010\" name=\"K\\xc3\\xb6ln, Heumarkt\" id=\"401506583\"/></IsoDest><IsoDest duration=\"PT09M\"><Stn y=\"50.931246\" x=\"6.950074\" name=\"K\\xc3\\xb6ln, Poststr.\" id=\"401508843\"/></IsoDest><IsoDest duration=\"PT09M\"><Stn y=\"50.935819\" x=\"6.996744\" name=\"K\\xc3\\xb6ln, Kalk Trimbornstr.\" id=\"401500769\"/></IsoDest><IsoDest duration=\"PT09M\"><Stn y=\"50.935825\" x=\"6.996750\" name=\"K\\xc3\\xb6ln Trimbornstra\\xc3\\x9fe\" id=\"415212063\"/></IsoDest><IsoDest duration=\"PT11M\"><Stn y=\"50.940542\" x=\"6.939991\" name=\"K\\xc3\\xb6ln, Friesenplatz\" id=\"401506603\"/></IsoDest><IsoDest duration=\"PT11M\"><Stn y=\"50.951551\" x=\"6.917392\" name=\"K\\xc3\\xb6ln-Ehrenfeld\" id=\"415212046\"/></IsoDest><IsoDest duration=\"PT11M\"><Stn y=\"50.951545\" x=\"6.917387\" name=\"K\\xc3\\xb6ln, Ehrenfeld Bf Ehrenfeld\" id=\"401508942\"/></IsoDest><IsoDest duration=\"PT11M\"><Stn y=\"50.950483\" x=\"6.958920\" name=\"K\\xc3\\xb6ln, Ebertplatz/Riehler Str.\" id=\"401500619\"/></IsoDest><IsoDest duration=\"PT11M\"><Stn y=\"50.928591\" x=\"6.942737\" name=\"K\\xc3\\xb6ln, Barbarossaplatz\" id=\"401506597\"/></IsoDest><IsoDest duration=\"PT11M\"><Stn y=\"50.957385\" x=\"6.973295\" name=\"K\\xc3\\xb6ln, Riehl Zoo/Flora\" id=\"401506689\"/></IsoDest><IsoDest duration=\"PT12M\"><Stn y=\"50.944300\" x=\"6.958760\" name=\"K\\xc3\\xb6ln-Hauptbahnhof\" id=\"700150378\"/></IsoDest><IsoDest duration=\"PT12M\"><Stn y=\"50.958161\" x=\"7.013107\" name=\"K\\xc3\\xb6ln, M\\xc3\\xbclheim Bf M\\xc3\\xbclheim\" id=\"401508915\"/></IsoDest><IsoDest duration=\"PT12M\"><Stn y=\"50.928403\" x=\"6.935991\" name=\"K\\xc3\\xb6ln, Dasselstr./Bf S\\xc3\\xbcd\" id=\"401508850\"/></IsoDest><IsoDest duration=\"PT12M\"><Stn y=\"50.936671\" x=\"6.970372\" name=\"K\\xc3\\xb6ln, Deutz Deutzer Freiheit\" id=\"401508854\"/></IsoDest><IsoDest duration=\"PT12M\"><Stn y=\"50.942877\" x=\"6.933593\" name=\"K\\xc3\\xb6ln, Hans-B\\xc3\\xb6ckler-Platz/Bf West\" id=\"401511161\"/></IsoDest><IsoDest duration=\"PT12M\"><Stn y=\"50.954256\" x=\"6.950387\" name=\"K\\xc3\\xb6ln, Krefelder Wall\" id=\"401500034\"/></IsoDest><IsoDest duration=\"PT12M\"><Stn y=\"50.958428\" x=\"6.941491\" name=\"K\\xc3\\xb6ln, Nippes S-Bahn\" id=\"401500713\"/></IsoDest><IsoDest duration=\"PT13M\"><Stn y=\"50.926662\" x=\"6.945699\" name=\"K\\xc3\\xb6ln, Eifelstr.\" id=\"401508848\"/></IsoDest><IsoDest duration=\"PT13M\"><Stn y=\"50.910283\" x=\"7.044448\" name=\"K\\xc3\\xb6ln Airport-Businesspark\" id=\"415212162\"/></IsoDest><IsoDest duration=\"PT13M\"><Stn y=\"50.944711\" x=\"6.942452\" name=\"K\\xc3\\xb6ln, Christophstr./Mediapark\" id=\"401508853\"/></IsoDest><IsoDest duration=\"PT13M\"><Stn y=\"50.930488\" x=\"6.950443\" name=\"K\\xc3\\xb6ln, Rothgerberbach (Poststr.)\" id=\"401505209\"/></IsoDest><IsoDest duration=\"PT13M\"><Stn y=\"50.910120\" x=\"7.044865\" name=\"K\\xc3\\xb6ln, Gremberghoven K Airport Businesspark\" id=\"401508995\"/></IsoDest><IsoDest duration=\"PT13M\"><Stn y=\"50.942878\" x=\"6.981671\" name=\"K\\xc3\\xb6ln, Deutz Koelnmesse\" id=\"401508857\"/></IsoDest><IsoDest duration=\"PT13M\"><Stn y=\"50.932374\" x=\"6.956257\" name=\"K\\xc3\\xb6ln, Waidmarkt\" id=\"401500010\"/></IsoDest><IsoDest duration=\"PT13M\"><Stn y=\"50.933850\" x=\"7.000970\" name=\"K\\xc3\\xb6ln, Humboldt/Gremberg Gie\\xc3\\x9fener Str.\" id=\"401500500\"/></IsoDest><IsoDest duration=\"PT13M\"><Stn y=\"50.962399\" x=\"6.980958\" name=\"K\\xc3\\xb6ln, Riehl Boltensternstr.\" id=\"401508890\"/></IsoDest><IsoDest duration=\"PT14M\"><Stn y=\"50.968479\" x=\"6.941253\" name=\"K\\xc3\\xb6ln, Bilderst\\xc3\\xb6ckchen Geldernstr./Parkg\\xc3\\xbcrtel\" id=\"401506694\"/></IsoDest><IsoDest duration=\"PT14M\"><Stn y=\"50.933226\" x=\"6.957554\" name=\"K\\xc3\\xb6ln, M\\xc3\\xbchlenbach\" id=\"401502225\"/></IsoDest><IsoDest duration=\"PT14M\"><Stn y=\"50.931811\" x=\"7.000869\" name=\"K\\xc3\\xb6ln, Humboldt/Gremberg Wattstr.\" id=\"401500816\"/></IsoDest><IsoDest duration=\"PT14M\"><Stn y=\"50.941897\" x=\"6.973199\" name=\"K\\xc3\\xb6ln, Deutz Bf Deutz/Messeplatz\" id=\"401500243\"/></IsoDest><IsoDest duration=\"PT14M\"><Stn y=\"50.958100\" x=\"6.955262\" name=\"K\\xc3\\xb6ln, Nippes Lohsestr.\" id=\"401508889\"/></IsoDest><IsoDest duration=\"PT14M\"><Stn y=\"50.957928\" x=\"6.949878\" name=\"K\\xc3\\xb6ln, Nippes Merheimer Platz\" id=\"401500297\"/></IsoDest><IsoDest duration=\"PT14M\"><Stn y=\"50.941780\" x=\"6.973320\" name=\"K\\xc3\\xb6lnmesse/Deutz\" id=\"700150458\"/></IsoDest><IsoDest duration=\"PT14M\"><Stn y=\"50.950371\" x=\"6.928293\" name=\"K\\xc3\\xb6ln, Ehrenfeld Gutenbergstr.\" id=\"401508879\"/></IsoDest><IsoDest duration=\"PT15M\"><Stn y=\"50.936475\" x=\"6.986160\" name=\"K\\xc3\\xb6ln, Deutz Technische Hochschule\" id=\"401510222\"/></IsoDest><IsoDest duration=\"PT15M\"><Stn y=\"50.966591\" x=\"6.988136\" name=\"K\\xc3\\xb6ln, Riehl Slabystr.\" id=\"401508891\"/></IsoDest><IsoDest duration=\"PT15M\"><Stn y=\"50.937521\" x=\"6.998502\" name=\"K\\xc3\\xb6ln, Kalk Post\" id=\"401506732\"/></IsoDest><IsoDest duration=\"PT15M\"><Stn y=\"50.945828\" x=\"6.975017\" name=\"K\\xc3\\xb6ln, Deutz Im Rheinpark\" id=\"401500045\"/></IsoDest><IsoDest duration=\"PT15M\"><Stn y=\"50.932535\" x=\"6.962846\" name=\"K\\xc3\\xb6ln, Schokoladenmuseum\" id=\"401500682\"/></IsoDest><IsoDest duration=\"PT15M\"><Stn y=\"50.894660\" x=\"7.057723\" name=\"K\\xc3\\xb6ln, Gremberghoven Steinstr. S-Bahn\" id=\"401500592\"/></IsoDest><IsoDest duration=\"PT15M\"><Stn y=\"50.929087\" x=\"6.956872\" name=\"K\\xc3\\xb6ln, Severinstr.\" id=\"401506591\"/></IsoDest><IsoDest duration=\"PT15M\"><Stn y=\"50.940290\" x=\"6.974250\" name=\"K\\xc3\\xb6lnmesse/Deutz\" id=\"700150297\"/></IsoDest><IsoDest duration=\"PT15M\"><Stn y=\"50.946004\" x=\"6.925801\" name=\"K\\xc3\\xb6ln, Ehrenfeld Piusstr.\" id=\"401508877\"/></IsoDest><IsoDest duration=\"PT15M\"><Stn y=\"50.943140\" x=\"6.959740\" name=\"K\\xc3\\xb6ln-Hauptbahnhof\" id=\"700150379\"/></IsoDest><IsoDest duration=\"PT15M\"><Stn y=\"50.958026\" x=\"7.013778\" name=\"K\\xc3\\xb6ln-M\\xc3\\xbclheim\" id=\"415211962\"/></IsoDest><IsoDest duration=\"PT15M\"><Stn y=\"50.958815\" x=\"6.949199\" name=\"K\\xc3\\xb6ln, Nippes Zonser Str.\" id=\"401500787\"/></IsoDest><IsoDest duration=\"PT15M\"><Stn y=\"50.937202\" x=\"6.994811\" name=\"K\\xc3\\xb6ln, Kalk Walter-Pauli-Ring\" id=\"401500230\"/></IsoDest><IsoDest duration=\"PT15M\"><Stn y=\"50.894675\" x=\"7.057743\" name=\"K\\xc3\\xb6ln Steinstra\\xc3\\x9fe\" id=\"415212161\"/></IsoDest><IsoDest duration=\"PT15M\"><Stn y=\"50.952328\" x=\"6.924162\" name=\"K\\xc3\\xb6ln, Ehrenfeld Liebigstr.\" id=\"401506666\"/></IsoDest><IsoDest duration=\"PT15M\"><Stn y=\"50.923985\" x=\"6.952102\" name=\"K\\xc3\\xb6ln, Ulrepforte\" id=\"401506594\"/></IsoDest></Isochrone></Res>'\n"
     ]
    }
   ],
   "source": [
    "import requests\n",
    "response = requests.get(\"https://transit.api.here.com/v3/isochrone?app_id=YXSirrZQTc5S5oltDEi7&app_code=1MAE37BAdtLQVDZJ9XwHmQ&center=50.941278,6.958281&time=2018-08-31T09%3A26%3A00&max_dur=10\")\n",
    "print(response.content)"
   ]
  },
  {
   "cell_type": "code",
   "execution_count": 59,
   "metadata": {},
   "outputs": [],
   "source": [
    "import xml.etree.ElementTree as ET\n",
    "import csv\n",
    "\n",
    "transit_bytes = 'isotransberlin60.xml'\n",
    "\n",
    "tree = ET.parse(transit_bytes)\n",
    "root = tree.getroot()\n",
    "\n",
    "with open('transit_iso_berlin60.csv', 'w') as transit_cgn:\n",
    "    csvwriter = csv.writer(transit_cgn)\n",
    "    \n",
    "    #CSV Header\n",
    "    csvwriter.writerow(['y', 'x', 'name', 'id'])\n",
    "    \n",
    "    #Add info about each station\n",
    "    for Isochrone in root.findall('Isochrone'):\n",
    "        for IsoDest in Isochrone.findall('IsoDest'):\n",
    "            for Stn in IsoDest.findall('Stn'):\n",
    "                station = []\n",
    "                \n",
    "                station.append(Stn.get('y'))\n",
    "                station.append(Stn.get('x'))\n",
    "                station.append(Stn.get('name'))\n",
    "                station.append(Stn.get('id'))\n",
    "                station.append(IsoDest.get('duration'))\n",
    "                csvwriter.writerow(station)\n",
    "\n"
   ]
  },
  {
   "cell_type": "code",
   "execution_count": null,
   "metadata": {
    "collapsed": true
   },
   "outputs": [],
   "source": []
  },
  {
   "cell_type": "code",
   "execution_count": null,
   "metadata": {
    "collapsed": true
   },
   "outputs": [],
   "source": []
  }
 ],
 "metadata": {
  "kernelspec": {
   "display_name": "Python 3",
   "language": "python",
   "name": "python3"
  },
  "language_info": {
   "codemirror_mode": {
    "name": "ipython",
    "version": 3
   },
   "file_extension": ".py",
   "mimetype": "text/x-python",
   "name": "python",
   "nbconvert_exporter": "python",
   "pygments_lexer": "ipython3",
   "version": "3.6.3"
  }
 },
 "nbformat": 4,
 "nbformat_minor": 2
}
